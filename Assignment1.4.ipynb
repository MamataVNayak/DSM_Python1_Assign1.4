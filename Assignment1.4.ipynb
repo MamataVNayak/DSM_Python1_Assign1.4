{
 "cells": [
  {
   "cell_type": "code",
   "execution_count": 14,
   "metadata": {},
   "outputs": [
    {
     "name": "stdout",
     "output_type": "stream",
     "text": [
      "Radius is :6.0\n",
      "Volume of sphere is :904.3199999999999\n"
     ]
    }
   ],
   "source": [
    "\"\"\"Write a Python program to find the volume of a sphere with diameter 12 cm.\n",
    "Formula: V=4/3 * π * r\"\"\"\n",
    "\n",
    "diameter=12\n",
    "radius = diameter/2\n",
    "print(\"Radius is :\"+ str(radius))\n",
    "\n",
    "volume=(4/3)*3.14*(radius**3)\n",
    "print(\"Volume of sphere is :\"+str(volume))"
   ]
  },
  {
   "cell_type": "code",
   "execution_count": null,
   "metadata": {},
   "outputs": [],
   "source": []
  },
  {
   "cell_type": "code",
   "execution_count": null,
   "metadata": {},
   "outputs": [],
   "source": []
  }
 ],
 "metadata": {
  "kernelspec": {
   "display_name": "Python 3",
   "language": "python",
   "name": "python3"
  },
  "language_info": {
   "codemirror_mode": {
    "name": "ipython",
    "version": 3
   },
   "file_extension": ".py",
   "mimetype": "text/x-python",
   "name": "python",
   "nbconvert_exporter": "python",
   "pygments_lexer": "ipython3",
   "version": "3.6.4"
  }
 },
 "nbformat": 4,
 "nbformat_minor": 2
}
